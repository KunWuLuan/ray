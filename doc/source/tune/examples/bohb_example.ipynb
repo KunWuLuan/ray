{
 "cells": [
  {
   "attachments": {},
   "cell_type": "markdown",
   "id": "986bcaab",
   "metadata": {},
   "source": [
    "# Running Tune experiments with BOHB\n",
    "\n",
    "In this tutorial we introduce BOHB, while running a simple Ray Tune experiment.\n",
    "Tune’s Search Algorithms integrate with BOHB and, as a result,\n",
    "allow you to seamlessly scale up a BOHB optimization\n",
    "process - without sacrificing performance.\n",
    "\n",
    "Bayesian Optimization HyperBand (BOHB) combines the benefits of Bayesian optimization\n",
    "together with Bandit-based methods (e.g. HyperBand). BOHB does not rely on\n",
    "the gradient of the objective function,\n",
    "but instead, learns from samples of the search space.\n",
    "It is suitable for optimizing functions that are non-differentiable,\n",
    "with many local minima, or even unknown but only testable.\n",
    "Therefore, this approach belongs to the domain of\n",
    "\"derivative-free optimization\" and \"black-box optimization\".\n",
    "\n",
    "In this example we minimize a simple objective to briefly demonstrate the usage of\n",
    "BOHB with Ray Tune via `BOHBSearch`. It's useful to keep in mind that despite\n",
    "the emphasis on machine learning experiments, Ray Tune optimizes any implicit\n",
    "or explicit objective. Here we assume `ConfigSpace==0.4.18` and `hpbandster==0.7.4`\n",
    "libraries are installed. To learn more, please refer to the\n",
    "[BOHB website](https://github.com/automl/HpBandSter).\n",
    "\n",
    "## Installing requirements:"
   ]
  },
  {
   "cell_type": "code",
   "execution_count": 1,
   "id": "d12bd979",
   "metadata": {
    "tags": [
     "hide-output"
    ]
   },
   "outputs": [
    {
     "name": "stdout",
     "output_type": "stream",
     "text": [
      "Collecting ConfigSpace\n",
      "  Using cached ConfigSpace-1.2.1-py3-none-any.whl\n",
      "Collecting hpbandster\n",
      "  Using cached hpbandster-0.7.4-py3-none-any.whl\n",
      "Collecting ray[tune]\n",
      "  Using cached ray-2.42.1-cp311-cp311-macosx_11_0_arm64.whl.metadata (18 kB)\n",
      "Collecting click>=7.0 (from ray[tune])\n",
      "  Using cached click-8.1.8-py3-none-any.whl.metadata (2.3 kB)\n",
      "Collecting filelock (from ray[tune])\n",
      "  Using cached filelock-3.17.0-py3-none-any.whl.metadata (2.9 kB)\n",
      "Collecting jsonschema (from ray[tune])\n",
      "  Using cached jsonschema-4.23.0-py3-none-any.whl.metadata (7.9 kB)\n",
      "Collecting msgpack<2.0.0,>=1.0.0 (from ray[tune])\n",
      "  Using cached msgpack-1.1.0-cp311-cp311-macosx_11_0_arm64.whl.metadata (8.4 kB)\n",
      "Requirement already satisfied: packaging in /opt/miniconda3/envs/bohb_example/lib/python3.11/site-packages (from ray[tune]) (24.2)\n",
      "Collecting protobuf!=3.19.5,>=3.15.3 (from ray[tune])\n",
      "  Using cached protobuf-5.29.3-cp38-abi3-macosx_10_9_universal2.whl.metadata (592 bytes)\n",
      "Collecting pyyaml (from ray[tune])\n",
      "  Using cached PyYAML-6.0.2-cp311-cp311-macosx_11_0_arm64.whl.metadata (2.1 kB)\n",
      "Collecting aiosignal (from ray[tune])\n",
      "  Using cached aiosignal-1.3.2-py2.py3-none-any.whl.metadata (3.8 kB)\n",
      "Collecting frozenlist (from ray[tune])\n",
      "  Using cached frozenlist-1.5.0-cp311-cp311-macosx_11_0_arm64.whl.metadata (13 kB)\n",
      "Collecting requests (from ray[tune])\n",
      "  Using cached requests-2.32.3-py3-none-any.whl.metadata (4.6 kB)\n",
      "Collecting pandas (from ray[tune])\n",
      "  Using cached pandas-2.2.3-cp311-cp311-macosx_11_0_arm64.whl.metadata (89 kB)\n",
      "Collecting tensorboardX>=1.9 (from ray[tune])\n",
      "  Using cached tensorboardX-2.6.2.2-py2.py3-none-any.whl.metadata (5.8 kB)\n",
      "Collecting pyarrow>=9.0.0 (from ray[tune])\n",
      "  Using cached pyarrow-19.0.1-cp311-cp311-macosx_12_0_arm64.whl.metadata (3.3 kB)\n",
      "Collecting fsspec (from ray[tune])\n",
      "  Using cached fsspec-2025.2.0-py3-none-any.whl.metadata (11 kB)\n",
      "Collecting numpy (from ConfigSpace)\n",
      "  Using cached numpy-2.2.3-cp311-cp311-macosx_14_0_arm64.whl.metadata (62 kB)\n",
      "Collecting pyparsing (from ConfigSpace)\n",
      "  Using cached pyparsing-3.2.1-py3-none-any.whl.metadata (5.0 kB)\n",
      "Collecting scipy (from ConfigSpace)\n",
      "  Using cached scipy-1.15.2-cp311-cp311-macosx_14_0_arm64.whl.metadata (61 kB)\n",
      "Requirement already satisfied: typing_extensions in /opt/miniconda3/envs/bohb_example/lib/python3.11/site-packages (from ConfigSpace) (4.12.2)\n",
      "Collecting more_itertools (from ConfigSpace)\n",
      "  Using cached more_itertools-10.6.0-py3-none-any.whl.metadata (37 kB)\n",
      "Collecting Pyro4 (from hpbandster)\n",
      "  Using cached Pyro4-4.82-py2.py3-none-any.whl.metadata (2.2 kB)\n",
      "Collecting serpent (from hpbandster)\n",
      "  Using cached serpent-1.41-py3-none-any.whl.metadata (5.8 kB)\n",
      "Collecting statsmodels (from hpbandster)\n",
      "  Using cached statsmodels-0.14.4-cp311-cp311-macosx_11_0_arm64.whl.metadata (9.2 kB)\n",
      "Collecting netifaces (from hpbandster)\n",
      "  Using cached netifaces-0.11.0-cp311-cp311-macosx_11_0_arm64.whl\n",
      "Collecting attrs>=22.2.0 (from jsonschema->ray[tune])\n",
      "  Using cached attrs-25.1.0-py3-none-any.whl.metadata (10 kB)\n",
      "Collecting jsonschema-specifications>=2023.03.6 (from jsonschema->ray[tune])\n",
      "  Using cached jsonschema_specifications-2024.10.1-py3-none-any.whl.metadata (3.0 kB)\n",
      "Collecting referencing>=0.28.4 (from jsonschema->ray[tune])\n",
      "  Using cached referencing-0.36.2-py3-none-any.whl.metadata (2.8 kB)\n",
      "Collecting rpds-py>=0.7.1 (from jsonschema->ray[tune])\n",
      "  Using cached rpds_py-0.22.3-cp311-cp311-macosx_11_0_arm64.whl.metadata (4.2 kB)\n",
      "Requirement already satisfied: python-dateutil>=2.8.2 in /opt/miniconda3/envs/bohb_example/lib/python3.11/site-packages (from pandas->ray[tune]) (2.9.0.post0)\n",
      "Collecting pytz>=2020.1 (from pandas->ray[tune])\n",
      "  Using cached pytz-2025.1-py2.py3-none-any.whl.metadata (22 kB)\n",
      "Collecting tzdata>=2022.7 (from pandas->ray[tune])\n",
      "  Using cached tzdata-2025.1-py2.py3-none-any.whl.metadata (1.4 kB)\n",
      "Collecting charset-normalizer<4,>=2 (from requests->ray[tune])\n",
      "  Using cached charset_normalizer-3.4.1-cp311-cp311-macosx_10_9_universal2.whl.metadata (35 kB)\n",
      "Collecting idna<4,>=2.5 (from requests->ray[tune])\n",
      "  Using cached idna-3.10-py3-none-any.whl.metadata (10 kB)\n",
      "Collecting urllib3<3,>=1.21.1 (from requests->ray[tune])\n",
      "  Using cached urllib3-2.3.0-py3-none-any.whl.metadata (6.5 kB)\n",
      "Collecting certifi>=2017.4.17 (from requests->ray[tune])\n",
      "  Using cached certifi-2025.1.31-py3-none-any.whl.metadata (2.5 kB)\n",
      "Collecting patsy>=0.5.6 (from statsmodels->hpbandster)\n",
      "  Using cached patsy-1.0.1-py2.py3-none-any.whl.metadata (3.3 kB)\n",
      "Requirement already satisfied: six>=1.5 in /opt/miniconda3/envs/bohb_example/lib/python3.11/site-packages (from python-dateutil>=2.8.2->pandas->ray[tune]) (1.17.0)\n",
      "Using cached click-8.1.8-py3-none-any.whl (98 kB)\n",
      "Using cached msgpack-1.1.0-cp311-cp311-macosx_11_0_arm64.whl (81 kB)\n",
      "Using cached protobuf-5.29.3-cp38-abi3-macosx_10_9_universal2.whl (417 kB)\n",
      "Using cached pyarrow-19.0.1-cp311-cp311-macosx_12_0_arm64.whl (30.7 MB)\n",
      "Using cached tensorboardX-2.6.2.2-py2.py3-none-any.whl (101 kB)\n",
      "Using cached aiosignal-1.3.2-py2.py3-none-any.whl (7.6 kB)\n",
      "Using cached frozenlist-1.5.0-cp311-cp311-macosx_11_0_arm64.whl (52 kB)\n",
      "Using cached filelock-3.17.0-py3-none-any.whl (16 kB)\n",
      "Using cached fsspec-2025.2.0-py3-none-any.whl (184 kB)\n",
      "Using cached jsonschema-4.23.0-py3-none-any.whl (88 kB)\n",
      "Using cached more_itertools-10.6.0-py3-none-any.whl (63 kB)\n",
      "Using cached numpy-2.2.3-cp311-cp311-macosx_14_0_arm64.whl (5.4 MB)\n",
      "Using cached pandas-2.2.3-cp311-cp311-macosx_11_0_arm64.whl (11.3 MB)\n",
      "Using cached pyparsing-3.2.1-py3-none-any.whl (107 kB)\n",
      "Using cached Pyro4-4.82-py2.py3-none-any.whl (89 kB)\n",
      "Using cached serpent-1.41-py3-none-any.whl (9.6 kB)\n",
      "Using cached PyYAML-6.0.2-cp311-cp311-macosx_11_0_arm64.whl (172 kB)\n",
      "Using cached ray-2.42.1-cp311-cp311-macosx_11_0_arm64.whl (64.8 MB)\n",
      "Using cached requests-2.32.3-py3-none-any.whl (64 kB)\n",
      "Using cached scipy-1.15.2-cp311-cp311-macosx_14_0_arm64.whl (22.4 MB)\n",
      "Using cached statsmodels-0.14.4-cp311-cp311-macosx_11_0_arm64.whl (9.9 MB)\n",
      "Using cached attrs-25.1.0-py3-none-any.whl (63 kB)\n",
      "Using cached certifi-2025.1.31-py3-none-any.whl (166 kB)\n",
      "Using cached charset_normalizer-3.4.1-cp311-cp311-macosx_10_9_universal2.whl (194 kB)\n",
      "Using cached idna-3.10-py3-none-any.whl (70 kB)\n",
      "Using cached jsonschema_specifications-2024.10.1-py3-none-any.whl (18 kB)\n",
      "Using cached patsy-1.0.1-py2.py3-none-any.whl (232 kB)\n",
      "Using cached pytz-2025.1-py2.py3-none-any.whl (507 kB)\n",
      "Using cached referencing-0.36.2-py3-none-any.whl (26 kB)\n",
      "Using cached rpds_py-0.22.3-cp311-cp311-macosx_11_0_arm64.whl (349 kB)\n",
      "Using cached tzdata-2025.1-py2.py3-none-any.whl (346 kB)\n",
      "Using cached urllib3-2.3.0-py3-none-any.whl (128 kB)\n",
      "Installing collected packages: pytz, netifaces, urllib3, tzdata, serpent, rpds-py, pyyaml, pyparsing, pyarrow, protobuf, numpy, msgpack, more_itertools, idna, fsspec, frozenlist, filelock, click, charset-normalizer, certifi, attrs, tensorboardX, scipy, requests, referencing, Pyro4, patsy, pandas, aiosignal, statsmodels, jsonschema-specifications, ConfigSpace, jsonschema, hpbandster, ray\n",
      "Successfully installed ConfigSpace-1.2.1 Pyro4-4.82 aiosignal-1.3.2 attrs-25.1.0 certifi-2025.1.31 charset-normalizer-3.4.1 click-8.1.8 filelock-3.17.0 frozenlist-1.5.0 fsspec-2025.2.0 hpbandster-0.7.4 idna-3.10 jsonschema-4.23.0 jsonschema-specifications-2024.10.1 more_itertools-10.6.0 msgpack-1.1.0 netifaces-0.11.0 numpy-2.2.3 pandas-2.2.3 patsy-1.0.1 protobuf-5.29.3 pyarrow-19.0.1 pyparsing-3.2.1 pytz-2025.1 pyyaml-6.0.2 ray-2.42.1 referencing-0.36.2 requests-2.32.3 rpds-py-0.22.3 scipy-1.15.2 serpent-1.41 statsmodels-0.14.4 tensorboardX-2.6.2.2 tzdata-2025.1 urllib3-2.3.0\n"
     ]
    }
   ],
   "source": [
    "!pip install -q \"ray[tune]\" ConfigSpace==1.2.1 hpbandster==0.7.4"
   ]
  },
  {
   "attachments": {},
   "cell_type": "markdown",
   "id": "96641e94",
   "metadata": {},
   "source": [
    "Click below to see all the imports we need for this example."
   ]
  },
  {
   "cell_type": "code",
   "execution_count": 2,
   "id": "0e65ccdb",
   "metadata": {
    "tags": [
     "hide-input"
    ]
   },
   "outputs": [
    {
     "name": "stderr",
     "output_type": "stream",
     "text": [
      "2025-02-18 17:49:29,267\tINFO util.py:154 -- Missing packages: ['ipywidgets']. Run `pip install -U ipywidgets`, then restart the notebook server for rich notebook output.\n",
      "2025-02-18 17:49:37,518\tINFO util.py:154 -- Missing packages: ['ipywidgets']. Run `pip install -U ipywidgets`, then restart the notebook server for rich notebook output.\n"
     ]
    }
   ],
   "source": [
    "import tempfile\n",
    "import time\n",
    "from pathlib import Path\n",
    "\n",
    "import ray\n",
    "from ray import tune\n",
    "from ray.tune.schedulers.hb_bohb import HyperBandForBOHB\n",
    "from ray.tune.search.bohb import TuneBOHB\n",
    "import ConfigSpace as CS"
   ]
  },
  {
   "attachments": {},
   "cell_type": "markdown",
   "id": "edba942a",
   "metadata": {},
   "source": [
    "Let's start by defining a simple evaluation function.\n",
    "We artificially sleep for a bit (`0.1` seconds) to simulate a long-running ML experiment.\n",
    "This setup assumes that we're running multiple `step`s of an experiment and try to tune\n",
    "two hyperparameters, namely `width` and `height`, and `activation`."
   ]
  },
  {
   "cell_type": "code",
   "execution_count": 3,
   "id": "af512205",
   "metadata": {},
   "outputs": [],
   "source": [
    "def evaluate(step, width, height, activation):\n",
    "    time.sleep(0.1)\n",
    "    activation_boost = 10 if activation==\"relu\" else 1\n",
    "    return (0.1 + width * step / 100) ** (-1) + height * 0.1 + activation_boost"
   ]
  },
  {
   "attachments": {},
   "cell_type": "markdown",
   "id": "c073ea21",
   "metadata": {},
   "source": [
    "Next, our `objective` function takes a Tune `config`, evaluates the `score` of your\n",
    "experiment in a training loop, and uses `tune.report` to report the `score` back to Tune.\n",
    "\n",
    "BOHB will interrupt our trials often, so we also need to {ref}`save and restore checkpoints <train-checkpointing>`."
   ]
  },
  {
   "cell_type": "code",
   "execution_count": 4,
   "id": "8a086e87",
   "metadata": {},
   "outputs": [],
   "source": [
    "def objective(config):\n",
    "    start = 0\n",
    "    if tune.get_checkpoint():\n",
    "        with tune.get_checkpoint().as_directory() as checkpoint_dir:\n",
    "            start = int((Path(checkpoint_dir) / \"data.ckpt\").read_text())\n",
    "\n",
    "    for step in range(start, config[\"steps\"]):\n",
    "        score = evaluate(step, config[\"width\"], config[\"height\"], config[\"activation\"])\n",
    "        with tempfile.TemporaryDirectory() as checkpoint_dir:\n",
    "            (Path(checkpoint_dir) / \"data.ckpt\").write_text(str(step))\n",
    "            tune.report(\n",
    "                {\"iterations\": step, \"mean_loss\": score},\n",
    "                checkpoint=tune.Checkpoint.from_directory(checkpoint_dir)\n",
    "            )"
   ]
  },
  {
   "cell_type": "code",
   "execution_count": 5,
   "id": "05d07329",
   "metadata": {
    "tags": [
     "hide-output"
    ]
   },
   "outputs": [
    {
     "data": {
      "text/html": [
       "<div class=\"lm-Widget p-Widget lm-Panel p-Panel jp-Cell-outputWrapper\">\n",
       "    <div style=\"margin-left: 50px;display: flex;flex-direction: row;align-items: center\">\n",
       "        <div class=\"jp-RenderedHTMLCommon\" style=\"display: flex; flex-direction: row;\">\n",
       "  <svg viewBox=\"0 0 567 224\" fill=\"none\" xmlns=\"http://www.w3.org/2000/svg\" style=\"height: 3em;\">\n",
       "    <g clip-path=\"url(#clip0_4338_178347)\">\n",
       "        <path d=\"M341.29 165.561H355.29L330.13 129.051C345.63 123.991 354.21 112.051 354.21 94.2307C354.21 71.3707 338.72 58.1807 311.88 58.1807H271V165.561H283.27V131.661H311.8C314.25 131.661 316.71 131.501 319.01 131.351L341.25 165.561H341.29ZM283.29 119.851V70.0007H311.82C331.3 70.0007 342.34 78.2907 342.34 94.5507C342.34 111.271 331.34 119.861 311.82 119.861L283.29 119.851ZM451.4 138.411L463.4 165.561H476.74L428.74 58.1807H416L367.83 165.561H380.83L392.83 138.411H451.4ZM446.19 126.601H398L422 72.1407L446.24 126.601H446.19ZM526.11 128.741L566.91 58.1807H554.35L519.99 114.181L485.17 58.1807H472.44L514.01 129.181V165.541H526.13V128.741H526.11Z\" fill=\"var(--jp-ui-font-color0)\"/>\n",
       "        <path d=\"M82.35 104.44C84.0187 97.8827 87.8248 92.0678 93.1671 87.9146C98.5094 83.7614 105.083 81.5067 111.85 81.5067C118.617 81.5067 125.191 83.7614 130.533 87.9146C135.875 92.0678 139.681 97.8827 141.35 104.44H163.75C164.476 101.562 165.622 98.8057 167.15 96.2605L127.45 56.5605C121.071 60.3522 113.526 61.6823 106.235 60.3005C98.9443 58.9187 92.4094 54.9203 87.8602 49.0574C83.3109 43.1946 81.0609 35.8714 81.5332 28.4656C82.0056 21.0599 85.1679 14.0819 90.4252 8.8446C95.6824 3.60726 102.672 0.471508 110.08 0.0272655C117.487 -0.416977 124.802 1.86091 130.647 6.4324C136.493 11.0039 140.467 17.5539 141.821 24.8501C143.175 32.1463 141.816 39.6859 138 46.0505L177.69 85.7505C182.31 82.9877 187.58 81.4995 192.962 81.4375C198.345 81.3755 203.648 82.742 208.33 85.3976C213.012 88.0532 216.907 91.9029 219.616 96.5544C222.326 101.206 223.753 106.492 223.753 111.875C223.753 117.258 222.326 122.545 219.616 127.197C216.907 131.848 213.012 135.698 208.33 138.353C203.648 141.009 198.345 142.375 192.962 142.313C187.58 142.251 182.31 140.763 177.69 138L138 177.7C141.808 184.071 143.155 191.614 141.79 198.91C140.424 206.205 136.44 212.75 130.585 217.313C124.731 221.875 117.412 224.141 110.004 223.683C102.596 223.226 95.6103 220.077 90.3621 214.828C85.1139 209.58 81.9647 202.595 81.5072 195.187C81.0497 187.779 83.3154 180.459 87.878 174.605C92.4405 168.751 98.9853 164.766 106.281 163.401C113.576 162.035 121.119 163.383 127.49 167.19L167.19 127.49C165.664 124.941 164.518 122.182 163.79 119.3H141.39C139.721 125.858 135.915 131.673 130.573 135.826C125.231 139.98 118.657 142.234 111.89 142.234C105.123 142.234 98.5494 139.98 93.2071 135.826C87.8648 131.673 84.0587 125.858 82.39 119.3H60C58.1878 126.495 53.8086 132.78 47.6863 136.971C41.5641 141.163 34.1211 142.972 26.7579 142.059C19.3947 141.146 12.6191 137.574 7.70605 132.014C2.79302 126.454 0.0813599 119.29 0.0813599 111.87C0.0813599 104.451 2.79302 97.2871 7.70605 91.7272C12.6191 86.1673 19.3947 82.5947 26.7579 81.6817C34.1211 80.7686 41.5641 82.5781 47.6863 86.7696C53.8086 90.9611 58.1878 97.2456 60 104.44H82.35ZM100.86 204.32C103.407 206.868 106.759 208.453 110.345 208.806C113.93 209.159 117.527 208.258 120.522 206.256C123.517 204.254 125.725 201.276 126.771 197.828C127.816 194.38 127.633 190.677 126.253 187.349C124.874 184.021 122.383 181.274 119.205 179.577C116.027 177.88 112.359 177.337 108.826 178.042C105.293 178.746 102.113 180.654 99.8291 183.44C97.5451 186.226 96.2979 189.718 96.3 193.32C96.2985 195.364 96.7006 197.388 97.4831 199.275C98.2656 201.163 99.4132 202.877 100.86 204.32ZM204.32 122.88C206.868 120.333 208.453 116.981 208.806 113.396C209.159 109.811 208.258 106.214 206.256 103.219C204.254 100.223 201.275 98.0151 197.827 96.97C194.38 95.9249 190.676 96.1077 187.348 97.4873C184.02 98.8669 181.274 101.358 179.577 104.536C177.879 107.714 177.337 111.382 178.041 114.915C178.746 118.448 180.653 121.627 183.439 123.911C186.226 126.195 189.717 127.443 193.32 127.44C195.364 127.443 197.388 127.042 199.275 126.259C201.163 125.476 202.878 124.328 204.32 122.88ZM122.88 19.4205C120.333 16.8729 116.981 15.2876 113.395 14.9347C109.81 14.5817 106.213 15.483 103.218 17.4849C100.223 19.4868 98.0146 22.4654 96.9696 25.9131C95.9245 29.3608 96.1073 33.0642 97.4869 36.3922C98.8665 39.7202 101.358 42.4668 104.535 44.1639C107.713 45.861 111.381 46.4036 114.914 45.6992C118.447 44.9949 121.627 43.0871 123.911 40.301C126.195 37.515 127.442 34.0231 127.44 30.4205C127.44 28.3772 127.038 26.3539 126.255 24.4664C125.473 22.5788 124.326 20.8642 122.88 19.4205ZM19.42 100.86C16.8725 103.408 15.2872 106.76 14.9342 110.345C14.5813 113.93 15.4826 117.527 17.4844 120.522C19.4863 123.518 22.4649 125.726 25.9127 126.771C29.3604 127.816 33.0638 127.633 36.3918 126.254C39.7198 124.874 42.4664 122.383 44.1635 119.205C45.8606 116.027 46.4032 112.359 45.6988 108.826C44.9944 105.293 43.0866 102.114 40.3006 99.8296C37.5145 97.5455 34.0227 96.2983 30.42 96.3005C26.2938 96.3018 22.337 97.9421 19.42 100.86ZM100.86 100.86C98.3125 103.408 96.7272 106.76 96.3742 110.345C96.0213 113.93 96.9226 117.527 98.9244 120.522C100.926 123.518 103.905 125.726 107.353 126.771C110.8 127.816 114.504 127.633 117.832 126.254C121.16 124.874 123.906 122.383 125.604 119.205C127.301 116.027 127.843 112.359 127.139 108.826C126.434 105.293 124.527 102.114 121.741 99.8296C118.955 97.5455 115.463 96.2983 111.86 96.3005C109.817 96.299 107.793 96.701 105.905 97.4835C104.018 98.2661 102.303 99.4136 100.86 100.86Z\" fill=\"#00AEEF\"/>\n",
       "    </g>\n",
       "    <defs>\n",
       "        <clipPath id=\"clip0_4338_178347\">\n",
       "            <rect width=\"566.93\" height=\"223.75\" fill=\"white\"/>\n",
       "        </clipPath>\n",
       "    </defs>\n",
       "  </svg>\n",
       "</div>\n",
       "\n",
       "        <table class=\"jp-RenderedHTMLCommon\" style=\"border-collapse: collapse;color: var(--jp-ui-font-color1);font-size: var(--jp-ui-font-size1);\">\n",
       "    <tr>\n",
       "        <td style=\"text-align: left\"><b>Python version:</b></td>\n",
       "        <td style=\"text-align: left\"><b>3.11.11</b></td>\n",
       "    </tr>\n",
       "    <tr>\n",
       "        <td style=\"text-align: left\"><b>Ray version:</b></td>\n",
       "        <td style=\"text-align: left\"><b>2.42.1</b></td>\n",
       "    </tr>\n",
       "    \n",
       "</table>\n",
       "\n",
       "    </div>\n",
       "</div>\n"
      ],
      "text/plain": [
       "RayContext(dashboard_url='', python_version='3.11.11', ray_version='2.42.1', ray_commit='c2e38f7b75be223c0c033986472daada8622d64f')"
      ]
     },
     "execution_count": 5,
     "metadata": {},
     "output_type": "execute_result"
    }
   ],
   "source": [
    "ray.init(configure_logging=False)"
   ]
  },
  {
   "attachments": {},
   "cell_type": "markdown",
   "id": "32ee1ba7",
   "metadata": {},
   "source": [
    "Next we define a search space. The critical assumption is that the optimal\n",
    "hyperparameters live within this space. Yet, if the space is very large,\n",
    "then those hyperparameters may be difficult to find in a short amount of time."
   ]
  },
  {
   "cell_type": "code",
   "execution_count": 6,
   "id": "21598e54",
   "metadata": {},
   "outputs": [],
   "source": [
    "search_space = {\n",
    "    \"steps\": 100,\n",
    "    \"width\": tune.uniform(0, 20),\n",
    "    \"height\": tune.uniform(-100, 100),\n",
    "    \"activation\": tune.choice([\"relu\", \"tanh\"]),\n",
    "}"
   ]
  },
  {
   "attachments": {},
   "cell_type": "markdown",
   "id": "def82932",
   "metadata": {},
   "source": [
    "Next we define the search algorithm built from `TuneBOHB`, constrained\n",
    "to a maximum of `4` concurrent trials with a `ConcurrencyLimiter`.\n",
    "Below `algo` will take care of the BO (Bayesian optimization) part of BOHB,\n",
    "while scheduler will take care the HB (HyperBand) part."
   ]
  },
  {
   "cell_type": "code",
   "execution_count": 7,
   "id": "e847b5b6",
   "metadata": {},
   "outputs": [],
   "source": [
    "algo = TuneBOHB()\n",
    "algo = tune.search.ConcurrencyLimiter(algo, max_concurrent=4)\n",
    "scheduler = HyperBandForBOHB(\n",
    "    time_attr=\"training_iteration\",\n",
    "    max_t=100,\n",
    "    reduction_factor=4,\n",
    "    stop_last_trials=False,\n",
    ")"
   ]
  },
  {
   "attachments": {},
   "cell_type": "markdown",
   "id": "1787a842",
   "metadata": {},
   "source": [
    "The number of samples is the number of hyperparameter combinations\n",
    "that will be tried out. This Tune run is set to `1000` samples.\n",
    "(you can decrease this if it takes too long on your machine)."
   ]
  },
  {
   "cell_type": "code",
   "execution_count": 8,
   "id": "702eb3d4",
   "metadata": {},
   "outputs": [],
   "source": [
    "num_samples = 1000"
   ]
  },
  {
   "cell_type": "code",
   "execution_count": 9,
   "id": "dfb3ecad",
   "metadata": {
    "pycharm": {
     "name": "#%%\n"
    },
    "tags": [
     "remove-cell"
    ]
   },
   "outputs": [],
   "source": [
    "num_samples = 10"
   ]
  },
  {
   "attachments": {},
   "cell_type": "markdown",
   "id": "aa5936df",
   "metadata": {},
   "source": [
    "Finally, we run the experiment to `min`imize the \"mean_loss\" of the `objective`\n",
    "by searching within `\"steps\": 100` via `algo`, `num_samples` times. This previous\n",
    "sentence is fully characterizes the search problem we aim to solve.\n",
    "With this in mind, notice how efficient it is to execute `tuner.fit()`."
   ]
  },
  {
   "cell_type": "code",
   "execution_count": 10,
   "id": "4bdfb12d",
   "metadata": {},
   "outputs": [
    {
     "ename": "TypeError",
     "evalue": "UniformFloatHyperparameter.__init__() got an unexpected keyword argument 'q'",
     "output_type": "error",
     "traceback": [
      "\u001b[0;31m---------------------------------------------------------------------------\u001b[0m",
      "\u001b[0;31mTypeError\u001b[0m                                 Traceback (most recent call last)",
      "Cell \u001b[0;32mIn[10], line 16\u001b[0m\n\u001b[1;32m      1\u001b[0m tuner \u001b[38;5;241m=\u001b[39m tune\u001b[38;5;241m.\u001b[39mTuner(\n\u001b[1;32m      2\u001b[0m     objective,\n\u001b[1;32m      3\u001b[0m     tune_config\u001b[38;5;241m=\u001b[39mtune\u001b[38;5;241m.\u001b[39mTuneConfig(\n\u001b[0;32m   (...)\u001b[0m\n\u001b[1;32m     14\u001b[0m     param_space\u001b[38;5;241m=\u001b[39msearch_space,\n\u001b[1;32m     15\u001b[0m )\n\u001b[0;32m---> 16\u001b[0m results \u001b[38;5;241m=\u001b[39m \u001b[43mtuner\u001b[49m\u001b[38;5;241;43m.\u001b[39;49m\u001b[43mfit\u001b[49m\u001b[43m(\u001b[49m\u001b[43m)\u001b[49m\n",
      "File \u001b[0;32m/opt/miniconda3/envs/bohb_example/lib/python3.11/site-packages/ray/tune/tuner.py:377\u001b[0m, in \u001b[0;36mTuner.fit\u001b[0;34m(self)\u001b[0m\n\u001b[1;32m    345\u001b[0m \u001b[38;5;250m\u001b[39m\u001b[38;5;124;03m\"\"\"Executes hyperparameter tuning job as configured and returns result.\u001b[39;00m\n\u001b[1;32m    346\u001b[0m \n\u001b[1;32m    347\u001b[0m \u001b[38;5;124;03mFailure handling:\u001b[39;00m\n\u001b[0;32m   (...)\u001b[0m\n\u001b[1;32m    373\u001b[0m \u001b[38;5;124;03m    RayTaskError: If user-provided trainable raises an exception\u001b[39;00m\n\u001b[1;32m    374\u001b[0m \u001b[38;5;124;03m\"\"\"\u001b[39;00m\n\u001b[1;32m    376\u001b[0m \u001b[38;5;28;01mif\u001b[39;00m \u001b[38;5;129;01mnot\u001b[39;00m \u001b[38;5;28mself\u001b[39m\u001b[38;5;241m.\u001b[39m_is_ray_client:\n\u001b[0;32m--> 377\u001b[0m     \u001b[38;5;28;01mreturn\u001b[39;00m \u001b[38;5;28;43mself\u001b[39;49m\u001b[38;5;241;43m.\u001b[39;49m\u001b[43m_local_tuner\u001b[49m\u001b[38;5;241;43m.\u001b[39;49m\u001b[43mfit\u001b[49m\u001b[43m(\u001b[49m\u001b[43m)\u001b[49m\n\u001b[1;32m    378\u001b[0m \u001b[38;5;28;01melse\u001b[39;00m:\n\u001b[1;32m    379\u001b[0m     (\n\u001b[1;32m    380\u001b[0m         progress_reporter,\n\u001b[1;32m    381\u001b[0m         string_queue,\n\u001b[1;32m    382\u001b[0m     ) \u001b[38;5;241m=\u001b[39m \u001b[38;5;28mself\u001b[39m\u001b[38;5;241m.\u001b[39m_prepare_remote_tuner_for_jupyter_progress_reporting()\n",
      "File \u001b[0;32m/opt/miniconda3/envs/bohb_example/lib/python3.11/site-packages/ray/tune/impl/tuner_internal.py:501\u001b[0m, in \u001b[0;36mTunerInternal.fit\u001b[0;34m(self)\u001b[0m\n\u001b[1;32m    499\u001b[0m param_space \u001b[38;5;241m=\u001b[39m copy\u001b[38;5;241m.\u001b[39mdeepcopy(\u001b[38;5;28mself\u001b[39m\u001b[38;5;241m.\u001b[39mparam_space)\n\u001b[1;32m    500\u001b[0m \u001b[38;5;28;01mif\u001b[39;00m \u001b[38;5;129;01mnot\u001b[39;00m \u001b[38;5;28mself\u001b[39m\u001b[38;5;241m.\u001b[39m_is_restored:\n\u001b[0;32m--> 501\u001b[0m     analysis \u001b[38;5;241m=\u001b[39m \u001b[38;5;28;43mself\u001b[39;49m\u001b[38;5;241;43m.\u001b[39;49m\u001b[43m_fit_internal\u001b[49m\u001b[43m(\u001b[49m\u001b[43mtrainable\u001b[49m\u001b[43m,\u001b[49m\u001b[43m \u001b[49m\u001b[43mparam_space\u001b[49m\u001b[43m)\u001b[49m\n\u001b[1;32m    502\u001b[0m \u001b[38;5;28;01melse\u001b[39;00m:\n\u001b[1;32m    503\u001b[0m     analysis \u001b[38;5;241m=\u001b[39m \u001b[38;5;28mself\u001b[39m\u001b[38;5;241m.\u001b[39m_fit_resume(trainable, param_space)\n",
      "File \u001b[0;32m/opt/miniconda3/envs/bohb_example/lib/python3.11/site-packages/ray/tune/impl/tuner_internal.py:617\u001b[0m, in \u001b[0;36mTunerInternal._fit_internal\u001b[0;34m(self, trainable, param_space)\u001b[0m\n\u001b[1;32m    604\u001b[0m \u001b[38;5;250m\u001b[39m\u001b[38;5;124;03m\"\"\"Fitting for a fresh Tuner.\"\"\"\u001b[39;00m\n\u001b[1;32m    605\u001b[0m args \u001b[38;5;241m=\u001b[39m {\n\u001b[1;32m    606\u001b[0m     \u001b[38;5;241m*\u001b[39m\u001b[38;5;241m*\u001b[39m\u001b[38;5;28mself\u001b[39m\u001b[38;5;241m.\u001b[39m_get_tune_run_arguments(trainable),\n\u001b[1;32m    607\u001b[0m     \u001b[38;5;241m*\u001b[39m\u001b[38;5;241m*\u001b[39m\u001b[38;5;28mdict\u001b[39m(\n\u001b[0;32m   (...)\u001b[0m\n\u001b[1;32m    615\u001b[0m     \u001b[38;5;241m*\u001b[39m\u001b[38;5;241m*\u001b[39m\u001b[38;5;28mself\u001b[39m\u001b[38;5;241m.\u001b[39m_tuner_kwargs,\n\u001b[1;32m    616\u001b[0m }\n\u001b[0;32m--> 617\u001b[0m analysis \u001b[38;5;241m=\u001b[39m \u001b[43mrun\u001b[49m\u001b[43m(\u001b[49m\n\u001b[1;32m    618\u001b[0m \u001b[43m    \u001b[49m\u001b[38;5;241;43m*\u001b[39;49m\u001b[38;5;241;43m*\u001b[39;49m\u001b[43margs\u001b[49m\u001b[43m,\u001b[49m\n\u001b[1;32m    619\u001b[0m \u001b[43m\u001b[49m\u001b[43m)\u001b[49m\n\u001b[1;32m    620\u001b[0m \u001b[38;5;28mself\u001b[39m\u001b[38;5;241m.\u001b[39mclear_remote_string_queue()\n\u001b[1;32m    621\u001b[0m \u001b[38;5;28;01mreturn\u001b[39;00m analysis\n",
      "File \u001b[0;32m/opt/miniconda3/envs/bohb_example/lib/python3.11/site-packages/ray/tune/tune.py:831\u001b[0m, in \u001b[0;36mrun\u001b[0;34m(run_or_experiment, name, metric, mode, stop, time_budget_s, config, resources_per_trial, num_samples, storage_path, storage_filesystem, search_alg, scheduler, checkpoint_config, verbose, progress_reporter, log_to_file, trial_name_creator, trial_dirname_creator, sync_config, export_formats, max_failures, fail_fast, restore, resume, resume_config, reuse_actors, raise_on_failed_trial, callbacks, max_concurrent_trials, keep_checkpoints_num, checkpoint_score_attr, checkpoint_freq, checkpoint_at_end, chdir_to_trial_dir, local_dir, _remote, _remote_string_queue, _entrypoint)\u001b[0m\n\u001b[1;32m    828\u001b[0m \u001b[38;5;28;01mif\u001b[39;00m \u001b[38;5;28misinstance\u001b[39m(search_alg, Searcher):\n\u001b[1;32m    829\u001b[0m     search_alg \u001b[38;5;241m=\u001b[39m SearchGenerator(search_alg)\n\u001b[0;32m--> 831\u001b[0m \u001b[38;5;28;01mif\u001b[39;00m config \u001b[38;5;129;01mand\u001b[39;00m \u001b[38;5;129;01mnot\u001b[39;00m \u001b[43msearcher_set_search_props\u001b[49m\u001b[43m(\u001b[49m\n\u001b[1;32m    832\u001b[0m \u001b[43m    \u001b[49m\u001b[43msearch_alg\u001b[49m\u001b[38;5;241;43m.\u001b[39;49m\u001b[43mset_search_properties\u001b[49m\u001b[43m,\u001b[49m\n\u001b[1;32m    833\u001b[0m \u001b[43m    \u001b[49m\u001b[43mmetric\u001b[49m\u001b[43m,\u001b[49m\n\u001b[1;32m    834\u001b[0m \u001b[43m    \u001b[49m\u001b[43mmode\u001b[49m\u001b[43m,\u001b[49m\n\u001b[1;32m    835\u001b[0m \u001b[43m    \u001b[49m\u001b[43mconfig\u001b[49m\u001b[43m,\u001b[49m\n\u001b[1;32m    836\u001b[0m \u001b[43m    \u001b[49m\u001b[38;5;241;43m*\u001b[39;49m\u001b[38;5;241;43m*\u001b[39;49m\u001b[43mexperiments\u001b[49m\u001b[43m[\u001b[49m\u001b[38;5;241;43m0\u001b[39;49m\u001b[43m]\u001b[49m\u001b[38;5;241;43m.\u001b[39;49m\u001b[43mpublic_spec\u001b[49m\u001b[43m,\u001b[49m\n\u001b[1;32m    837\u001b[0m \u001b[43m\u001b[49m\u001b[43m)\u001b[49m:\n\u001b[1;32m    838\u001b[0m     \u001b[38;5;28;01mif\u001b[39;00m _has_unresolved_values(config):\n\u001b[1;32m    839\u001b[0m         \u001b[38;5;28;01mraise\u001b[39;00m \u001b[38;5;167;01mValueError\u001b[39;00m(\n\u001b[1;32m    840\u001b[0m             \u001b[38;5;124mf\u001b[39m\u001b[38;5;124m\"\u001b[39m\u001b[38;5;124mYou passed a `\u001b[39m\u001b[38;5;132;01m{\u001b[39;00merror_message_map[\u001b[38;5;124m'\u001b[39m\u001b[38;5;124msearch_space_arg\u001b[39m\u001b[38;5;124m'\u001b[39m]\u001b[38;5;132;01m}\u001b[39;00m\u001b[38;5;124m` parameter to \u001b[39m\u001b[38;5;124m\"\u001b[39m\n\u001b[1;32m    841\u001b[0m             \u001b[38;5;124mf\u001b[39m\u001b[38;5;124m\"\u001b[39m\u001b[38;5;124m`\u001b[39m\u001b[38;5;132;01m{\u001b[39;00merror_message_map[\u001b[38;5;124m'\u001b[39m\u001b[38;5;124mentrypoint\u001b[39m\u001b[38;5;124m'\u001b[39m]\u001b[38;5;132;01m}\u001b[39;00m\u001b[38;5;124m` with \u001b[39m\u001b[38;5;124m\"\u001b[39m\n\u001b[0;32m   (...)\u001b[0m\n\u001b[1;32m    845\u001b[0m             \u001b[38;5;124m\"\u001b[39m\u001b[38;5;124mthem in the search algorithm\u001b[39m\u001b[38;5;124m'\u001b[39m\u001b[38;5;124ms search space if necessary.\u001b[39m\u001b[38;5;124m\"\u001b[39m\n\u001b[1;32m    846\u001b[0m         )\n",
      "File \u001b[0;32m/opt/miniconda3/envs/bohb_example/lib/python3.11/site-packages/ray/tune/search/util.py:31\u001b[0m, in \u001b[0;36m_set_search_properties_backwards_compatible\u001b[0;34m(set_search_properties_func, metric, mode, config, **spec)\u001b[0m\n\u001b[1;32m     29\u001b[0m     \u001b[38;5;28;01mreturn\u001b[39;00m set_search_properties_func(metric, mode, config)\n\u001b[1;32m     30\u001b[0m \u001b[38;5;28;01melse\u001b[39;00m:\n\u001b[0;32m---> 31\u001b[0m     \u001b[38;5;28;01mraise\u001b[39;00m e\n",
      "File \u001b[0;32m/opt/miniconda3/envs/bohb_example/lib/python3.11/site-packages/ray/tune/search/util.py:19\u001b[0m, in \u001b[0;36m_set_search_properties_backwards_compatible\u001b[0;34m(set_search_properties_func, metric, mode, config, **spec)\u001b[0m\n\u001b[1;32m     14\u001b[0m \u001b[38;5;250m\u001b[39m\u001b[38;5;124;03m\"\"\"Wraps around set_search_properties() so that it is backward compatible.\u001b[39;00m\n\u001b[1;32m     15\u001b[0m \n\u001b[1;32m     16\u001b[0m \u001b[38;5;124;03mAlso outputs a warning to encourage custom searchers to be updated.\u001b[39;00m\n\u001b[1;32m     17\u001b[0m \u001b[38;5;124;03m\"\"\"\u001b[39;00m\n\u001b[1;32m     18\u001b[0m \u001b[38;5;28;01mtry\u001b[39;00m:\n\u001b[0;32m---> 19\u001b[0m     \u001b[38;5;28;01mreturn\u001b[39;00m \u001b[43mset_search_properties_func\u001b[49m\u001b[43m(\u001b[49m\u001b[43mmetric\u001b[49m\u001b[43m,\u001b[49m\u001b[43m \u001b[49m\u001b[43mmode\u001b[49m\u001b[43m,\u001b[49m\u001b[43m \u001b[49m\u001b[43mconfig\u001b[49m\u001b[43m,\u001b[49m\u001b[43m \u001b[49m\u001b[38;5;241;43m*\u001b[39;49m\u001b[38;5;241;43m*\u001b[39;49m\u001b[43mspec\u001b[49m\u001b[43m)\u001b[49m\n\u001b[1;32m     20\u001b[0m \u001b[38;5;28;01mexcept\u001b[39;00m \u001b[38;5;167;01mTypeError\u001b[39;00m \u001b[38;5;28;01mas\u001b[39;00m e:\n\u001b[1;32m     21\u001b[0m     \u001b[38;5;28;01mif\u001b[39;00m \u001b[38;5;28mstr\u001b[39m(e)\u001b[38;5;241m.\u001b[39mstartswith(\n\u001b[1;32m     22\u001b[0m         \u001b[38;5;124m\"\u001b[39m\u001b[38;5;124mset_search_properties() got an unexpected keyword argument\u001b[39m\u001b[38;5;124m\"\u001b[39m\n\u001b[1;32m     23\u001b[0m     ):\n",
      "File \u001b[0;32m/opt/miniconda3/envs/bohb_example/lib/python3.11/site-packages/ray/tune/search/search_generator.py:62\u001b[0m, in \u001b[0;36mSearchGenerator.set_search_properties\u001b[0;34m(self, metric, mode, config, **spec)\u001b[0m\n\u001b[1;32m     59\u001b[0m \u001b[38;5;28;01mdef\u001b[39;00m\u001b[38;5;250m \u001b[39m\u001b[38;5;21mset_search_properties\u001b[39m(\n\u001b[1;32m     60\u001b[0m     \u001b[38;5;28mself\u001b[39m, metric: Optional[\u001b[38;5;28mstr\u001b[39m], mode: Optional[\u001b[38;5;28mstr\u001b[39m], config: Dict, \u001b[38;5;241m*\u001b[39m\u001b[38;5;241m*\u001b[39mspec\n\u001b[1;32m     61\u001b[0m ) \u001b[38;5;241m-\u001b[39m\u001b[38;5;241m>\u001b[39m \u001b[38;5;28mbool\u001b[39m:\n\u001b[0;32m---> 62\u001b[0m     \u001b[38;5;28;01mreturn\u001b[39;00m \u001b[43m_set_search_properties_backwards_compatible\u001b[49m\u001b[43m(\u001b[49m\n\u001b[1;32m     63\u001b[0m \u001b[43m        \u001b[49m\u001b[38;5;28;43mself\u001b[39;49m\u001b[38;5;241;43m.\u001b[39;49m\u001b[43msearcher\u001b[49m\u001b[38;5;241;43m.\u001b[39;49m\u001b[43mset_search_properties\u001b[49m\u001b[43m,\u001b[49m\u001b[43m \u001b[49m\u001b[43mmetric\u001b[49m\u001b[43m,\u001b[49m\u001b[43m \u001b[49m\u001b[43mmode\u001b[49m\u001b[43m,\u001b[49m\u001b[43m \u001b[49m\u001b[43mconfig\u001b[49m\u001b[43m,\u001b[49m\u001b[43m \u001b[49m\u001b[38;5;241;43m*\u001b[39;49m\u001b[38;5;241;43m*\u001b[39;49m\u001b[43mspec\u001b[49m\n\u001b[1;32m     64\u001b[0m \u001b[43m    \u001b[49m\u001b[43m)\u001b[49m\n",
      "File \u001b[0;32m/opt/miniconda3/envs/bohb_example/lib/python3.11/site-packages/ray/tune/search/util.py:31\u001b[0m, in \u001b[0;36m_set_search_properties_backwards_compatible\u001b[0;34m(set_search_properties_func, metric, mode, config, **spec)\u001b[0m\n\u001b[1;32m     29\u001b[0m     \u001b[38;5;28;01mreturn\u001b[39;00m set_search_properties_func(metric, mode, config)\n\u001b[1;32m     30\u001b[0m \u001b[38;5;28;01melse\u001b[39;00m:\n\u001b[0;32m---> 31\u001b[0m     \u001b[38;5;28;01mraise\u001b[39;00m e\n",
      "File \u001b[0;32m/opt/miniconda3/envs/bohb_example/lib/python3.11/site-packages/ray/tune/search/util.py:19\u001b[0m, in \u001b[0;36m_set_search_properties_backwards_compatible\u001b[0;34m(set_search_properties_func, metric, mode, config, **spec)\u001b[0m\n\u001b[1;32m     14\u001b[0m \u001b[38;5;250m\u001b[39m\u001b[38;5;124;03m\"\"\"Wraps around set_search_properties() so that it is backward compatible.\u001b[39;00m\n\u001b[1;32m     15\u001b[0m \n\u001b[1;32m     16\u001b[0m \u001b[38;5;124;03mAlso outputs a warning to encourage custom searchers to be updated.\u001b[39;00m\n\u001b[1;32m     17\u001b[0m \u001b[38;5;124;03m\"\"\"\u001b[39;00m\n\u001b[1;32m     18\u001b[0m \u001b[38;5;28;01mtry\u001b[39;00m:\n\u001b[0;32m---> 19\u001b[0m     \u001b[38;5;28;01mreturn\u001b[39;00m \u001b[43mset_search_properties_func\u001b[49m\u001b[43m(\u001b[49m\u001b[43mmetric\u001b[49m\u001b[43m,\u001b[49m\u001b[43m \u001b[49m\u001b[43mmode\u001b[49m\u001b[43m,\u001b[49m\u001b[43m \u001b[49m\u001b[43mconfig\u001b[49m\u001b[43m,\u001b[49m\u001b[43m \u001b[49m\u001b[38;5;241;43m*\u001b[39;49m\u001b[38;5;241;43m*\u001b[39;49m\u001b[43mspec\u001b[49m\u001b[43m)\u001b[49m\n\u001b[1;32m     20\u001b[0m \u001b[38;5;28;01mexcept\u001b[39;00m \u001b[38;5;167;01mTypeError\u001b[39;00m \u001b[38;5;28;01mas\u001b[39;00m e:\n\u001b[1;32m     21\u001b[0m     \u001b[38;5;28;01mif\u001b[39;00m \u001b[38;5;28mstr\u001b[39m(e)\u001b[38;5;241m.\u001b[39mstartswith(\n\u001b[1;32m     22\u001b[0m         \u001b[38;5;124m\"\u001b[39m\u001b[38;5;124mset_search_properties() got an unexpected keyword argument\u001b[39m\u001b[38;5;124m\"\u001b[39m\n\u001b[1;32m     23\u001b[0m     ):\n",
      "File \u001b[0;32m/opt/miniconda3/envs/bohb_example/lib/python3.11/site-packages/ray/tune/search/concurrency_limiter.py:87\u001b[0m, in \u001b[0;36mConcurrencyLimiter.set_search_properties\u001b[0;34m(self, metric, mode, config, **spec)\u001b[0m\n\u001b[1;32m     83\u001b[0m \u001b[38;5;28;01mdef\u001b[39;00m\u001b[38;5;250m \u001b[39m\u001b[38;5;21mset_search_properties\u001b[39m(\n\u001b[1;32m     84\u001b[0m     \u001b[38;5;28mself\u001b[39m, metric: Optional[\u001b[38;5;28mstr\u001b[39m], mode: Optional[\u001b[38;5;28mstr\u001b[39m], config: Dict, \u001b[38;5;241m*\u001b[39m\u001b[38;5;241m*\u001b[39mspec\n\u001b[1;32m     85\u001b[0m ) \u001b[38;5;241m-\u001b[39m\u001b[38;5;241m>\u001b[39m \u001b[38;5;28mbool\u001b[39m:\n\u001b[1;32m     86\u001b[0m     \u001b[38;5;28mself\u001b[39m\u001b[38;5;241m.\u001b[39m_set_searcher_max_concurrency()\n\u001b[0;32m---> 87\u001b[0m     \u001b[38;5;28;01mreturn\u001b[39;00m \u001b[43m_set_search_properties_backwards_compatible\u001b[49m\u001b[43m(\u001b[49m\n\u001b[1;32m     88\u001b[0m \u001b[43m        \u001b[49m\u001b[38;5;28;43mself\u001b[39;49m\u001b[38;5;241;43m.\u001b[39;49m\u001b[43msearcher\u001b[49m\u001b[38;5;241;43m.\u001b[39;49m\u001b[43mset_search_properties\u001b[49m\u001b[43m,\u001b[49m\u001b[43m \u001b[49m\u001b[43mmetric\u001b[49m\u001b[43m,\u001b[49m\u001b[43m \u001b[49m\u001b[43mmode\u001b[49m\u001b[43m,\u001b[49m\u001b[43m \u001b[49m\u001b[43mconfig\u001b[49m\u001b[43m,\u001b[49m\u001b[43m \u001b[49m\u001b[38;5;241;43m*\u001b[39;49m\u001b[38;5;241;43m*\u001b[39;49m\u001b[43mspec\u001b[49m\n\u001b[1;32m     89\u001b[0m \u001b[43m    \u001b[49m\u001b[43m)\u001b[49m\n",
      "File \u001b[0;32m/opt/miniconda3/envs/bohb_example/lib/python3.11/site-packages/ray/tune/search/util.py:31\u001b[0m, in \u001b[0;36m_set_search_properties_backwards_compatible\u001b[0;34m(set_search_properties_func, metric, mode, config, **spec)\u001b[0m\n\u001b[1;32m     29\u001b[0m     \u001b[38;5;28;01mreturn\u001b[39;00m set_search_properties_func(metric, mode, config)\n\u001b[1;32m     30\u001b[0m \u001b[38;5;28;01melse\u001b[39;00m:\n\u001b[0;32m---> 31\u001b[0m     \u001b[38;5;28;01mraise\u001b[39;00m e\n",
      "File \u001b[0;32m/opt/miniconda3/envs/bohb_example/lib/python3.11/site-packages/ray/tune/search/util.py:19\u001b[0m, in \u001b[0;36m_set_search_properties_backwards_compatible\u001b[0;34m(set_search_properties_func, metric, mode, config, **spec)\u001b[0m\n\u001b[1;32m     14\u001b[0m \u001b[38;5;250m\u001b[39m\u001b[38;5;124;03m\"\"\"Wraps around set_search_properties() so that it is backward compatible.\u001b[39;00m\n\u001b[1;32m     15\u001b[0m \n\u001b[1;32m     16\u001b[0m \u001b[38;5;124;03mAlso outputs a warning to encourage custom searchers to be updated.\u001b[39;00m\n\u001b[1;32m     17\u001b[0m \u001b[38;5;124;03m\"\"\"\u001b[39;00m\n\u001b[1;32m     18\u001b[0m \u001b[38;5;28;01mtry\u001b[39;00m:\n\u001b[0;32m---> 19\u001b[0m     \u001b[38;5;28;01mreturn\u001b[39;00m \u001b[43mset_search_properties_func\u001b[49m\u001b[43m(\u001b[49m\u001b[43mmetric\u001b[49m\u001b[43m,\u001b[49m\u001b[43m \u001b[49m\u001b[43mmode\u001b[49m\u001b[43m,\u001b[49m\u001b[43m \u001b[49m\u001b[43mconfig\u001b[49m\u001b[43m,\u001b[49m\u001b[43m \u001b[49m\u001b[38;5;241;43m*\u001b[39;49m\u001b[38;5;241;43m*\u001b[39;49m\u001b[43mspec\u001b[49m\u001b[43m)\u001b[49m\n\u001b[1;32m     20\u001b[0m \u001b[38;5;28;01mexcept\u001b[39;00m \u001b[38;5;167;01mTypeError\u001b[39;00m \u001b[38;5;28;01mas\u001b[39;00m e:\n\u001b[1;32m     21\u001b[0m     \u001b[38;5;28;01mif\u001b[39;00m \u001b[38;5;28mstr\u001b[39m(e)\u001b[38;5;241m.\u001b[39mstartswith(\n\u001b[1;32m     22\u001b[0m         \u001b[38;5;124m\"\u001b[39m\u001b[38;5;124mset_search_properties() got an unexpected keyword argument\u001b[39m\u001b[38;5;124m\"\u001b[39m\n\u001b[1;32m     23\u001b[0m     ):\n",
      "File \u001b[0;32m/opt/miniconda3/envs/bohb_example/lib/python3.11/site-packages/ray/tune/search/bohb/bohb_search.py:203\u001b[0m, in \u001b[0;36mTuneBOHB.set_search_properties\u001b[0;34m(self, metric, mode, config, **spec)\u001b[0m\n\u001b[1;32m    201\u001b[0m \u001b[38;5;28;01mif\u001b[39;00m \u001b[38;5;28mself\u001b[39m\u001b[38;5;241m.\u001b[39m_space:\n\u001b[1;32m    202\u001b[0m     \u001b[38;5;28;01mreturn\u001b[39;00m \u001b[38;5;28;01mFalse\u001b[39;00m\n\u001b[0;32m--> 203\u001b[0m space \u001b[38;5;241m=\u001b[39m \u001b[38;5;28;43mself\u001b[39;49m\u001b[38;5;241;43m.\u001b[39;49m\u001b[43mconvert_search_space\u001b[49m\u001b[43m(\u001b[49m\u001b[43mconfig\u001b[49m\u001b[43m)\u001b[49m\n\u001b[1;32m    204\u001b[0m \u001b[38;5;28mself\u001b[39m\u001b[38;5;241m.\u001b[39m_space \u001b[38;5;241m=\u001b[39m space\n\u001b[1;32m    206\u001b[0m \u001b[38;5;28;01mif\u001b[39;00m metric:\n",
      "File \u001b[0;32m/opt/miniconda3/envs/bohb_example/lib/python3.11/site-packages/ray/tune/search/bohb/bohb_search.py:370\u001b[0m, in \u001b[0;36mTuneBOHB.convert_search_space\u001b[0;34m(spec)\u001b[0m\n\u001b[1;32m    368\u001b[0m \u001b[38;5;28;01mfor\u001b[39;00m path, domain \u001b[38;5;129;01min\u001b[39;00m domain_vars:\n\u001b[1;32m    369\u001b[0m     par \u001b[38;5;241m=\u001b[39m \u001b[38;5;124m\"\u001b[39m\u001b[38;5;124m/\u001b[39m\u001b[38;5;124m\"\u001b[39m\u001b[38;5;241m.\u001b[39mjoin(\u001b[38;5;28mstr\u001b[39m(p) \u001b[38;5;28;01mfor\u001b[39;00m p \u001b[38;5;129;01min\u001b[39;00m path)\n\u001b[0;32m--> 370\u001b[0m     value \u001b[38;5;241m=\u001b[39m \u001b[43mresolve_value\u001b[49m\u001b[43m(\u001b[49m\u001b[43mpar\u001b[49m\u001b[43m,\u001b[49m\u001b[43m \u001b[49m\u001b[43mdomain\u001b[49m\u001b[43m)\u001b[49m\n\u001b[1;32m    371\u001b[0m     cs\u001b[38;5;241m.\u001b[39madd_hyperparameter(value)\n\u001b[1;32m    373\u001b[0m \u001b[38;5;28;01mreturn\u001b[39;00m cs\n",
      "File \u001b[0;32m/opt/miniconda3/envs/bohb_example/lib/python3.11/site-packages/ray/tune/search/bohb/bohb_search.py:320\u001b[0m, in \u001b[0;36mTuneBOHB.convert_search_space.<locals>.resolve_value\u001b[0;34m(par, domain)\u001b[0m\n\u001b[1;32m    318\u001b[0m         lower \u001b[38;5;241m=\u001b[39m math\u001b[38;5;241m.\u001b[39mceil(domain\u001b[38;5;241m.\u001b[39mlower \u001b[38;5;241m/\u001b[39m quantize) \u001b[38;5;241m*\u001b[39m quantize\n\u001b[1;32m    319\u001b[0m         upper \u001b[38;5;241m=\u001b[39m math\u001b[38;5;241m.\u001b[39mfloor(domain\u001b[38;5;241m.\u001b[39mupper \u001b[38;5;241m/\u001b[39m quantize) \u001b[38;5;241m*\u001b[39m quantize\n\u001b[0;32m--> 320\u001b[0m     \u001b[38;5;28;01mreturn\u001b[39;00m \u001b[43mConfigSpace\u001b[49m\u001b[38;5;241;43m.\u001b[39;49m\u001b[43mUniformFloatHyperparameter\u001b[49m\u001b[43m(\u001b[49m\n\u001b[1;32m    321\u001b[0m \u001b[43m        \u001b[49m\u001b[43mpar\u001b[49m\u001b[43m,\u001b[49m\u001b[43m \u001b[49m\u001b[43mlower\u001b[49m\u001b[38;5;241;43m=\u001b[39;49m\u001b[43mlower\u001b[49m\u001b[43m,\u001b[49m\u001b[43m \u001b[49m\u001b[43mupper\u001b[49m\u001b[38;5;241;43m=\u001b[39;49m\u001b[43mupper\u001b[49m\u001b[43m,\u001b[49m\u001b[43m \u001b[49m\u001b[43mq\u001b[49m\u001b[38;5;241;43m=\u001b[39;49m\u001b[43mquantize\u001b[49m\u001b[43m,\u001b[49m\u001b[43m \u001b[49m\u001b[43mlog\u001b[49m\u001b[38;5;241;43m=\u001b[39;49m\u001b[38;5;28;43;01mFalse\u001b[39;49;00m\n\u001b[1;32m    322\u001b[0m \u001b[43m    \u001b[49m\u001b[43m)\u001b[49m\n\u001b[1;32m    323\u001b[0m \u001b[38;5;28;01melif\u001b[39;00m \u001b[38;5;28misinstance\u001b[39m(sampler, Normal):\n\u001b[1;32m    324\u001b[0m     \u001b[38;5;28;01mreturn\u001b[39;00m ConfigSpace\u001b[38;5;241m.\u001b[39mhyperparameters\u001b[38;5;241m.\u001b[39mNormalFloatHyperparameter(\n\u001b[1;32m    325\u001b[0m         par, mu\u001b[38;5;241m=\u001b[39msampler\u001b[38;5;241m.\u001b[39mmean, sigma\u001b[38;5;241m=\u001b[39msampler\u001b[38;5;241m.\u001b[39msd, q\u001b[38;5;241m=\u001b[39mquantize, log\u001b[38;5;241m=\u001b[39m\u001b[38;5;28;01mFalse\u001b[39;00m\n\u001b[1;32m    326\u001b[0m     )\n",
      "\u001b[0;31mTypeError\u001b[0m: UniformFloatHyperparameter.__init__() got an unexpected keyword argument 'q'"
     ]
    }
   ],
   "source": [
    "tuner = tune.Tuner(\n",
    "    objective,\n",
    "    tune_config=tune.TuneConfig(\n",
    "        metric=\"mean_loss\",\n",
    "        mode=\"min\",\n",
    "        search_alg=algo,\n",
    "        scheduler=scheduler,\n",
    "        num_samples=num_samples,\n",
    "    ),\n",
    "    run_config=tune.RunConfig(\n",
    "        name=\"bohb_exp\",\n",
    "        stop={\"training_iteration\": 100},\n",
    "    ),\n",
    "    param_space=search_space,\n",
    ")\n",
    "results = tuner.fit()"
   ]
  },
  {
   "attachments": {},
   "cell_type": "markdown",
   "id": "3e89853c",
   "metadata": {},
   "source": [
    "Here are the hyperparameters found to minimize the mean loss of the defined objective."
   ]
  },
  {
   "cell_type": "code",
   "execution_count": null,
   "id": "4be691d5",
   "metadata": {},
   "outputs": [],
   "source": [
    "print(\"Best hyperparameters found were: \", results.get_best_result().config)"
   ]
  },
  {
   "attachments": {},
   "cell_type": "markdown",
   "id": "800a19d9",
   "metadata": {},
   "source": [
    "## Optional: Passing the search space via the TuneBOHB algorithm\n",
    "\n",
    "We can define the hyperparameter search space using `ConfigSpace`,\n",
    "which is the format accepted by BOHB."
   ]
  },
  {
   "cell_type": "code",
   "execution_count": 11,
   "id": "b96cb496",
   "metadata": {},
   "outputs": [
    {
     "name": "stderr",
     "output_type": "stream",
     "text": [
      "/var/folders/tp/x4qghynj1j15wqz89l2d8rz80000gp/T/ipykernel_35844/2408211672.py:2: DeprecationWarning: Please use `space.add(hyperparameter)`\n",
      "  config_space.add_hyperparameter(\n",
      "/var/folders/tp/x4qghynj1j15wqz89l2d8rz80000gp/T/ipykernel_35844/2408211672.py:5: DeprecationWarning: Please use `space.add(hyperparameter)`\n",
      "  config_space.add_hyperparameter(\n",
      "/var/folders/tp/x4qghynj1j15wqz89l2d8rz80000gp/T/ipykernel_35844/2408211672.py:8: DeprecationWarning: Please use `space.add(hyperparameter)`\n",
      "  config_space.add_hyperparameter(\n",
      "/var/folders/tp/x4qghynj1j15wqz89l2d8rz80000gp/T/ipykernel_35844/2408211672.py:11: DeprecationWarning: Please use `space.add(hyperparameter)`\n",
      "  config_space.add_hyperparameter(\n"
     ]
    },
    {
     "data": {
      "text/plain": [
       "CategoricalHyperparameter(name='activation', default_value='relu', meta=None, size=2, choices=('relu', 'tanh'), weights=None, _contains_sequence_as_value=False)"
      ]
     },
     "execution_count": 11,
     "metadata": {},
     "output_type": "execute_result"
    }
   ],
   "source": [
    "config_space = CS.ConfigurationSpace()\n",
    "config_space.add_hyperparameter(\n",
    "    CS.Constant(\"steps\", 100)\n",
    ")\n",
    "config_space.add_hyperparameter(\n",
    "    CS.UniformFloatHyperparameter(\"width\", lower=0, upper=20)\n",
    ")\n",
    "config_space.add_hyperparameter(\n",
    "    CS.UniformFloatHyperparameter(\"height\", lower=-100, upper=100)\n",
    ")\n",
    "config_space.add_hyperparameter(\n",
    "    CS.CategoricalHyperparameter(\n",
    "        \"activation\", choices=[\"relu\", \"tanh\"]\n",
    "    )\n",
    ")"
   ]
  },
  {
   "cell_type": "code",
   "execution_count": 12,
   "id": "9cb77270",
   "metadata": {},
   "outputs": [],
   "source": [
    "# As we are passing config space directly to the searcher,\n",
    "# we need to define metric and mode in it as well, in addition\n",
    "# to Tuner()\n",
    "algo = TuneBOHB(\n",
    "    space=config_space,\n",
    "    metric=\"mean_loss\",\n",
    "    mode=\"max\",\n",
    ")\n",
    "algo = tune.search.ConcurrencyLimiter(algo, max_concurrent=4)\n",
    "scheduler = HyperBandForBOHB(\n",
    "    time_attr=\"training_iteration\",\n",
    "    max_t=100,\n",
    "    reduction_factor=4,\n",
    "    stop_last_trials=False,\n",
    ")"
   ]
  },
  {
   "cell_type": "code",
   "execution_count": 13,
   "id": "8305c975",
   "metadata": {
    "pycharm": {
     "name": "#%%\n"
    },
    "tags": [
     "hide-output"
    ]
   },
   "outputs": [
    {
     "data": {
      "text/html": [
       "<div class=\"tuneStatus\">\n",
       "  <div style=\"display: flex;flex-direction: row\">\n",
       "    <div style=\"display: flex;flex-direction: column;\">\n",
       "      <h3>Tune Status</h3>\n",
       "      <table>\n",
       "<tbody>\n",
       "<tr><td>Current time:</td><td>2025-02-18 17:51:42</td></tr>\n",
       "<tr><td>Running for: </td><td>00:00:28.75        </td></tr>\n",
       "<tr><td>Memory:      </td><td>27.2/36.0 GiB      </td></tr>\n",
       "</tbody>\n",
       "</table>\n",
       "    </div>\n",
       "    <div class=\"vDivider\"></div>\n",
       "    <div class=\"systemInfo\">\n",
       "      <h3>System Info</h3>\n",
       "      Using HyperBand: num_stopped=9 total_brackets=1<br>Round #0:<br>  Bracket(Max Size (n)=1, Milestone (r)=64, completed=66.8%): {TERMINATED: 10} <br>Logical resource usage: 1.0/12 CPUs, 0/0 GPUs\n",
       "    </div>\n",
       "    \n",
       "  </div>\n",
       "  <div class=\"hDivider\"></div>\n",
       "  <div class=\"trialStatus\">\n",
       "    <h3>Trial Status</h3>\n",
       "    <table>\n",
       "<thead>\n",
       "<tr><th>Trial name        </th><th>status    </th><th>loc            </th><th>activation  </th><th style=\"text-align: right;\">   height</th><th style=\"text-align: right;\">  steps</th><th style=\"text-align: right;\">    width</th><th style=\"text-align: right;\">     loss</th><th style=\"text-align: right;\">  iter</th><th style=\"text-align: right;\">  total time (s)</th><th style=\"text-align: right;\">  iterations</th></tr>\n",
       "</thead>\n",
       "<tbody>\n",
       "<tr><td>objective_a9b77d17</td><td>TERMINATED</td><td>127.0.0.1:36361</td><td>relu        </td><td style=\"text-align: right;\">-75.1394 </td><td style=\"text-align: right;\">    100</td><td style=\"text-align: right;\">10.5669  </td><td style=\"text-align: right;\"> 3.16463 </td><td style=\"text-align: right;\">    16</td><td style=\"text-align: right;\">        1.6656  </td><td style=\"text-align: right;\">          13</td></tr>\n",
       "<tr><td>objective_08327a70</td><td>TERMINATED</td><td>127.0.0.1:36366</td><td>tanh        </td><td style=\"text-align: right;\">-53.6328 </td><td style=\"text-align: right;\">    100</td><td style=\"text-align: right;\"> 0.414409</td><td style=\"text-align: right;\"> 2.13558 </td><td style=\"text-align: right;\">    16</td><td style=\"text-align: right;\">        1.67267 </td><td style=\"text-align: right;\">          13</td></tr>\n",
       "<tr><td>objective_357e4037</td><td>TERMINATED</td><td>127.0.0.1:36308</td><td>tanh        </td><td style=\"text-align: right;\">  8.29646</td><td style=\"text-align: right;\">    100</td><td style=\"text-align: right;\"> 6.15958 </td><td style=\"text-align: right;\"> 6.3101  </td><td style=\"text-align: right;\">     4</td><td style=\"text-align: right;\">        0.421628</td><td style=\"text-align: right;\">           2</td></tr>\n",
       "<tr><td>objective_2975e200</td><td>TERMINATED</td><td>127.0.0.1:36314</td><td>relu        </td><td style=\"text-align: right;\">-51.7234 </td><td style=\"text-align: right;\">    100</td><td style=\"text-align: right;\"> 0.159443</td><td style=\"text-align: right;\">14.5186  </td><td style=\"text-align: right;\">     4</td><td style=\"text-align: right;\">        0.42096 </td><td style=\"text-align: right;\">           2</td></tr>\n",
       "<tr><td>objective_db41ed6f</td><td>TERMINATED</td><td>127.0.0.1:36333</td><td>relu        </td><td style=\"text-align: right;\"> 52.8588 </td><td style=\"text-align: right;\">    100</td><td style=\"text-align: right;\"> 2.58754 </td><td style=\"text-align: right;\">21.8756  </td><td style=\"text-align: right;\">     4</td><td style=\"text-align: right;\">        0.419444</td><td style=\"text-align: right;\">           2</td></tr>\n",
       "<tr><td>objective_04ed1b74</td><td>TERMINATED</td><td>127.0.0.1:36367</td><td>tanh        </td><td style=\"text-align: right;\">-34.9618 </td><td style=\"text-align: right;\">    100</td><td style=\"text-align: right;\"> 3.83534 </td><td style=\"text-align: right;\">-0.825596</td><td style=\"text-align: right;\">    16</td><td style=\"text-align: right;\">        1.67724 </td><td style=\"text-align: right;\">          13</td></tr>\n",
       "<tr><td>objective_a68c5070</td><td>TERMINATED</td><td>127.0.0.1:36368</td><td>tanh        </td><td style=\"text-align: right;\">-55.5681 </td><td style=\"text-align: right;\">    100</td><td style=\"text-align: right;\"> 9.64301 </td><td style=\"text-align: right;\">-4.45103 </td><td style=\"text-align: right;\">   100</td><td style=\"text-align: right;\">       10.564   </td><td style=\"text-align: right;\">          97</td></tr>\n",
       "<tr><td>objective_b5622a39</td><td>TERMINATED</td><td>127.0.0.1:36348</td><td>tanh        </td><td style=\"text-align: right;\"> 66.7318 </td><td style=\"text-align: right;\">    100</td><td style=\"text-align: right;\">13.5919  </td><td style=\"text-align: right;\">10.3625  </td><td style=\"text-align: right;\">     4</td><td style=\"text-align: right;\">        0.416548</td><td style=\"text-align: right;\">           2</td></tr>\n",
       "<tr><td>objective_20dc44ac</td><td>TERMINATED</td><td>127.0.0.1:36353</td><td>relu        </td><td style=\"text-align: right;\">-43.2745 </td><td style=\"text-align: right;\">    100</td><td style=\"text-align: right;\">16.3874  </td><td style=\"text-align: right;\"> 8.01038 </td><td style=\"text-align: right;\">     4</td><td style=\"text-align: right;\">        0.415547</td><td style=\"text-align: right;\">           2</td></tr>\n",
       "<tr><td>objective_bc4976cb</td><td>TERMINATED</td><td>127.0.0.1:36355</td><td>relu        </td><td style=\"text-align: right;\">-93.5952 </td><td style=\"text-align: right;\">    100</td><td style=\"text-align: right;\"> 2.95786 </td><td style=\"text-align: right;\"> 6.92358 </td><td style=\"text-align: right;\">     4</td><td style=\"text-align: right;\">        0.420677</td><td style=\"text-align: right;\">           2</td></tr>\n",
       "</tbody>\n",
       "</table>\n",
       "  </div>\n",
       "</div>\n",
       "<style>\n",
       ".tuneStatus {\n",
       "  color: var(--jp-ui-font-color1);\n",
       "}\n",
       ".tuneStatus .systemInfo {\n",
       "  display: flex;\n",
       "  flex-direction: column;\n",
       "}\n",
       ".tuneStatus td {\n",
       "  white-space: nowrap;\n",
       "}\n",
       ".tuneStatus .trialStatus {\n",
       "  display: flex;\n",
       "  flex-direction: column;\n",
       "}\n",
       ".tuneStatus h3 {\n",
       "  font-weight: bold;\n",
       "}\n",
       ".tuneStatus .hDivider {\n",
       "  border-bottom-width: var(--jp-border-width);\n",
       "  border-bottom-color: var(--jp-border-color0);\n",
       "  border-bottom-style: solid;\n",
       "}\n",
       ".tuneStatus .vDivider {\n",
       "  border-left-width: var(--jp-border-width);\n",
       "  border-left-color: var(--jp-border-color0);\n",
       "  border-left-style: solid;\n",
       "  margin: 0.5em 1em 0.5em 1em;\n",
       "}\n",
       "</style>\n"
      ],
      "text/plain": [
       "<IPython.core.display.HTML object>"
      ]
     },
     "metadata": {},
     "output_type": "display_data"
    },
    {
     "name": "stderr",
     "output_type": "stream",
     "text": [
      "\u001b[36m(objective pid=36250)\u001b[0m Checkpoint successfully created at: Checkpoint(filesystem=local, path=/Users/rdecal/ray_results/bohb_exp_2/objective_a9b77d17_1_activation=relu,height=-75.1394,steps=100,width=10.5669_2025-02-18_17-51-14/checkpoint_000000)\n",
      "\u001b[36m(objective pid=36287)\u001b[0m Checkpoint successfully created at: Checkpoint(filesystem=local, path=/Users/rdecal/ray_results/bohb_exp_2/objective_20dc44ac_9_activation=relu,height=-43.2745,steps=100,width=16.3874_2025-02-18_17-51-20/checkpoint_000000)\u001b[32m [repeated 8x across cluster] (Ray deduplicates logs by default. Set RAY_DEDUP_LOGS=0 to disable log deduplication, or see https://docs.ray.io/en/master/ray-observability/user-guides/configure-logging.html#log-deduplication for more options.)\u001b[0m\n",
      "\u001b[36m(objective pid=36296)\u001b[0m Restored on 127.0.0.1 from checkpoint: Checkpoint(filesystem=local, path=/Users/rdecal/ray_results/bohb_exp_2/objective_a9b77d17_1_activation=relu,height=-75.1394,steps=100,width=10.5669_2025-02-18_17-51-14/checkpoint_000000)\n",
      "\u001b[36m(objective pid=36333)\u001b[0m Checkpoint successfully created at: Checkpoint(filesystem=local, path=/Users/rdecal/ray_results/bohb_exp_2/objective_db41ed6f_5_activation=relu,height=52.8588,steps=100,width=2.5875_2025-02-18_17-51-17/checkpoint_000003)\u001b[32m [repeated 16x across cluster]\u001b[0m\n",
      "\u001b[36m(objective pid=36348)\u001b[0m Restored on 127.0.0.1 from checkpoint: Checkpoint(filesystem=local, path=/Users/rdecal/ray_results/bohb_exp_2/objective_b5622a39_8_activation=tanh,height=66.7318,steps=100,width=13.5919_2025-02-18_17-51-19/checkpoint_000000)\u001b[32m [repeated 7x across cluster]\u001b[0m\n",
      "\u001b[36m(objective pid=36361)\u001b[0m Checkpoint successfully created at: Checkpoint(filesystem=local, path=/Users/rdecal/ray_results/bohb_exp_2/objective_a9b77d17_1_activation=relu,height=-75.1394,steps=100,width=10.5669_2025-02-18_17-51-14/checkpoint_000014)\u001b[32m [repeated 29x across cluster]\u001b[0m\n",
      "\u001b[36m(objective pid=36368)\u001b[0m Restored on 127.0.0.1 from checkpoint: Checkpoint(filesystem=local, path=/Users/rdecal/ray_results/bohb_exp_2/objective_a68c5070_7_activation=tanh,height=-55.5681,steps=100,width=9.6430_2025-02-18_17-51-19/checkpoint_000003)\u001b[32m [repeated 6x across cluster]\u001b[0m\n",
      "\u001b[36m(objective pid=36368)\u001b[0m Checkpoint successfully created at: Checkpoint(filesystem=local, path=/Users/rdecal/ray_results/bohb_exp_2/objective_a68c5070_7_activation=tanh,height=-55.5681,steps=100,width=9.6430_2025-02-18_17-51-19/checkpoint_000040)\u001b[32m [repeated 59x across cluster]\u001b[0m\n",
      "\u001b[36m(objective pid=36368)\u001b[0m Checkpoint successfully created at: Checkpoint(filesystem=local, path=/Users/rdecal/ray_results/bohb_exp_2/objective_a68c5070_7_activation=tanh,height=-55.5681,steps=100,width=9.6430_2025-02-18_17-51-19/checkpoint_000086)\u001b[32m [repeated 46x across cluster]\u001b[0m\n"
     ]
    },
    {
     "name": "stderr",
     "output_type": "stream",
     "text": [
      "Remote file not found: /Users/rdecal/ray_results/bohb_exp_2/objective_a9b77d17_1_activation=relu,height=-75.1394,steps=100,width=10.5669_2025-02-18_17-51-14/result.json\n",
      "Remote file not found: /Users/rdecal/ray_results/bohb_exp_2/objective_08327a70_2_activation=tanh,height=-53.6328,steps=100,width=0.4144_2025-02-18_17-51-15/result.json\n",
      "Remote file not found: /Users/rdecal/ray_results/bohb_exp_2/objective_357e4037_3_activation=tanh,height=8.2965,steps=100,width=6.1596_2025-02-18_17-51-16/result.json\n"
     ]
    }
   ],
   "source": [
    "tuner = tune.Tuner(\n",
    "    objective,\n",
    "    tune_config=tune.TuneConfig(\n",
    "        metric=\"mean_loss\",\n",
    "        mode=\"min\",\n",
    "        search_alg=algo,\n",
    "        scheduler=scheduler,\n",
    "        num_samples=num_samples,\n",
    "    ),\n",
    "    run_config=tune.RunConfig(\n",
    "        name=\"bohb_exp_2\",\n",
    "        stop={\"training_iteration\": 100},\n",
    "    ),\n",
    ")\n",
    "results = tuner.fit()"
   ]
  },
  {
   "attachments": {},
   "cell_type": "markdown",
   "id": "5bf0dd87",
   "metadata": {},
   "source": [
    "Here again are the hyperparameters found to minimize the mean loss of the\n",
    "defined objective."
   ]
  },
  {
   "cell_type": "code",
   "execution_count": 14,
   "id": "1ae613e4",
   "metadata": {},
   "outputs": [
    {
     "name": "stdout",
     "output_type": "stream",
     "text": [
      "Best hyperparameters found were:  {'activation': np.str_('tanh'), 'height': -55.5680806062149, 'steps': 100, 'width': 9.6430071907735}\n"
     ]
    }
   ],
   "source": [
    "print(f\"Best hyperparameters found were: {results.get_best_result().config}\")"
   ]
  },
  {
   "cell_type": "code",
   "execution_count": 19,
   "id": "6b83ef6d",
   "metadata": {
    "tags": [
     "remove-cell"
    ]
   },
   "outputs": [],
   "source": [
    "ray.shutdown()"
   ]
  }
 ],
 "metadata": {
  "kernelspec": {
   "display_name": "bohb_example",
   "language": "python",
   "name": "python3"
  },
  "language_info": {
   "codemirror_mode": {
    "name": "ipython",
    "version": 3
   },
   "file_extension": ".py",
   "mimetype": "text/x-python",
   "name": "python",
   "nbconvert_exporter": "python",
   "pygments_lexer": "ipython3",
   "version": "3.11.11"
  },
  "orphan": true
 },
 "nbformat": 4,
 "nbformat_minor": 5
}
